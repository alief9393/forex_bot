{
 "cells": [
  {
   "cell_type": "code",
   "execution_count": null,
   "id": "8991d03c",
   "metadata": {},
   "outputs": [],
   "source": [
    "import pandas as pd\n",
    "import xgboost as xgb\n",
    "from sklearn.model_selection import GridSearchCV, train_test_split\n",
    "from sklearn.metrics import classification_report\n",
    "import warnings\n",
    "\n",
    "warnings.filterwarnings('ignore', category=UserWarning)\n",
    "\n",
    "print(\"Loading labeled EURUSD data...\")\n",
    "data_path = '../../data/eurusd_macro_h4_labeled.csv'\n",
    "df = pd.read_csv(data_path, index_col='time', parse_dates=True)\n",
    "df.dropna(inplace=True)\n",
    "print(\"Data loaded successfully.\")"
   ]
  },
  {
   "cell_type": "code",
   "execution_count": null,
   "id": "18cbd69d",
   "metadata": {},
   "outputs": [],
   "source": [
    "features = [col for col in df.columns if col not in ['open', 'high', 'low', 'close', 'volume', 'target']]\n",
    "X = df[features]\n",
    "y = df['target']\n",
    "\n",
    "X_train, X_test, y_train, y_test = train_test_split(X, y, test_size=0.3, shuffle=False)\n",
    "y_train_mapped = y_train.replace({-1: 2})\n",
    "y_test_mapped = y_test.replace({-1: 2})\n",
    "print(\"Data prepared for tuning.\")\n",
    "\n",
    "# Define the advanced grid of parameters to search\n",
    "param_grid = {\n",
    "    'n_estimators': [200, 500],\n",
    "    'learning_rate': [0.01, 0.05],\n",
    "    'max_depth': [3, 5],\n",
    "    'gamma': [1, 5],\n",
    "    'reg_lambda': [5, 10],\n",
    "    'subsample': [0.7, 0.9],\n",
    "    'colsample_bytree': [0.7, 0.9]\n",
    "}"
   ]
  },
  {
   "cell_type": "code",
   "execution_count": null,
   "id": "17c8bedb",
   "metadata": {},
   "outputs": [],
   "source": [
    "# Initialize the XGBoost Classifier using the 'softprob' objective for best results\n",
    "model = xgb.XGBClassifier(\n",
    "    objective='multi:softprob',\n",
    "    num_class=3,\n",
    "    use_label_encoder=False,\n",
    "    eval_metric='mlogloss'\n",
    ")\n",
    "\n",
    "# Initialize GridSearchCV\n",
    "# cv=3 performs 3-fold cross-validation, a robust standard.\n",
    "# n_jobs=-1 will use all available CPU cores on your machine to speed up the process.\n",
    "grid_search = GridSearchCV(\n",
    "    estimator=model,\n",
    "    param_grid=param_grid,\n",
    "    scoring='f1_weighted',\n",
    "    n_jobs=1,\n",
    "    cv=3,\n",
    "    verbose=3 \n",
    ")\n",
    "\n",
    "print(\"Starting Hyperparameter Search for EURUSD... This will take a long time.\")\n",
    "grid_search.fit(X_train, y_train_mapped)\n",
    "print(\"Search complete.\")"
   ]
  },
  {
   "cell_type": "code",
   "execution_count": null,
   "id": "d0333c43",
   "metadata": {},
   "outputs": [],
   "source": [
    "import pandas as pd\n",
    "from sklearn.metrics import classification_report\n",
    "\n",
    "print(\"\\n--- Best Parameters Found for EURUSD ---\")\n",
    "print(grid_search.best_params_)\n",
    "\n",
    "print(\"\\n--- Performance of the Best Model on the Test Set ---\")\n",
    "best_model = grid_search.best_estimator_\n",
    "y_pred_mapped = best_model.predict(X_test)\n",
    "\n",
    "if y_pred_mapped.ndim > 1:\n",
    "    y_pred = y_pred_mapped.argmax(axis=1)\n",
    "else:\n",
    "    y_pred = y_pred_mapped\n",
    "    \n",
    "y_pred = pd.Series(y_pred).replace({2: -1}).values\n",
    "\n",
    "print(classification_report(y_test, y_pred, zero_division=0))"
   ]
  }
 ],
 "metadata": {
  "kernelspec": {
   "display_name": "venv",
   "language": "python",
   "name": "python3"
  },
  "language_info": {
   "codemirror_mode": {
    "name": "ipython",
    "version": 3
   },
   "file_extension": ".py",
   "mimetype": "text/x-python",
   "name": "python",
   "nbconvert_exporter": "python",
   "pygments_lexer": "ipython3",
   "version": "3.11.9"
  }
 },
 "nbformat": 4,
 "nbformat_minor": 5
}
