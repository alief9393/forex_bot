{
 "cells": [
  {
   "cell_type": "code",
   "execution_count": null,
   "id": "f7b714ce",
   "metadata": {},
   "outputs": [],
   "source": [
    "import pandas as pd\n",
    "import xgboost as xgb\n",
    "import joblib\n",
    "from sklearn.model_selection import train_test_split\n",
    "from sklearn.metrics import classification_report, confusion_matrix\n",
    "import seaborn as sns\n",
    "import matplotlib.pyplot as plt\n",
    "\n",
    "data_path = '../../data/eurusd_h1_labeled.csv'\n",
    "df = pd.read_csv(data_path, index_col='time', parse_dates=True)\n",
    "\n",
    "df.dropna(inplace=True)\n",
    "\n",
    "print(\"EURUSD labeled data loaded successfully.\")\n",
    "print(f\"Data shape: {df.shape}\")"
   ]
  },
  {
   "cell_type": "code",
   "execution_count": null,
   "id": "8c9c2c38",
   "metadata": {},
   "outputs": [],
   "source": [
    "features = [col for col in df.columns if col not in ['open', 'high', 'low', 'close', 'volume', 'target']]\n",
    "X = df[features]\n",
    "y = df['target']\n",
    "\n",
    "X_train, X_test, y_train, y_test = train_test_split(X, y, test_size=0.2, shuffle=False)\n",
    "\n",
    "print(\"Data split into training and testing sets.\")\n",
    "\n",
    "class_counts = y_train.value_counts()\n",
    "weight_for_hold = (class_counts.get(1, 0) + class_counts.get(-1, 0)) / class_counts.get(0, 1)\n",
    "print(f\"Calculated weight for HOLD class: {weight_for_hold:.2f}\")\n",
    "\n",
    "sample_weights = y_train.apply(lambda x: weight_for_hold if x == 0 else 1)\n",
    "\n",
    "model = xgb.XGBClassifier(\n",
    "    objective='multi:softprob',\n",
    "    num_class=3,\n",
    "    use_label_encoder=False,\n",
    "    eval_metric='mlogloss',\n",
    "    colsample_bytree=0.9,\n",
    "    gamma=5,\n",
    "    learning_rate=0.05,\n",
    "    max_depth=5,\n",
    "    n_estimators=500,\n",
    "    reg_lambda=5,\n",
    "    subsample=0.7\n",
    ")\n",
    "\n",
    "print(\"\\nModel initialized with the best parameters found.\")\n",
    "\n",
    "y_train_mapped = y_train.replace({-1: 2})\n",
    "y_test_mapped = y_test.replace({-1: 2})\n",
    "\n",
    "print(\"\\nTraining the final EURUSD model with sample weights...\")\n",
    "model.fit(X_train, y_train_mapped, sample_weight=sample_weights.values)\n",
    "print(\"Model training complete.\")"
   ]
  },
  {
   "cell_type": "code",
   "execution_count": null,
   "id": "a10ce918",
   "metadata": {},
   "outputs": [],
   "source": [
    "y_pred_output = model.predict(X_test)\n",
    "\n",
    "if y_pred_output.ndim > 1:\n",
    "    print(\"Model outputted probabilities. Finding max...\")\n",
    "    y_pred_mapped = y_pred_output.argmax(axis=1)\n",
    "else:\n",
    "    print(\"Model outputted final predictions directly.\")\n",
    "    y_pred_mapped = y_pred_output\n",
    "    \n",
    "y_pred = pd.Series(y_pred_mapped).replace({2: -1}).values\n",
    "\n",
    "print(\"\\n--- Final EURUSD Model Performance ---\")\n",
    "print(classification_report(y_test, y_pred, zero_division=0))\n",
    "\n",
    "print(\"\\nConfusion Matrix:\")\n",
    "cm = confusion_matrix(y_test, y_pred, labels=[-1, 0, 1])\n",
    "sns.heatmap(cm, annot=True, fmt='d', xticklabels=[-1, 0, 1], yticklabels=[-1, 0, 1])\n",
    "plt.xlabel('Predicted')\n",
    "plt.ylabel('Actual')\n",
    "plt.show()"
   ]
  },
  {
   "cell_type": "code",
   "execution_count": null,
   "id": "c0f77fbd",
   "metadata": {},
   "outputs": [],
   "source": [
    "model_path = '../../models/eurusd_h1.pkl'\n",
    "joblib.dump(model, model_path)\n",
    "\n",
    "print(f\"\\nSUCCESS: Final EURUSD model saved successfully to: '{model_path}'\")"
   ]
  }
 ],
 "metadata": {
  "kernelspec": {
   "display_name": "venv",
   "language": "python",
   "name": "python3"
  },
  "language_info": {
   "codemirror_mode": {
    "name": "ipython",
    "version": 3
   },
   "file_extension": ".py",
   "mimetype": "text/x-python",
   "name": "python",
   "nbconvert_exporter": "python",
   "pygments_lexer": "ipython3",
   "version": "3.11.9"
  }
 },
 "nbformat": 4,
 "nbformat_minor": 5
}
