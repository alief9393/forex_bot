{
 "cells": [
  {
   "cell_type": "code",
   "execution_count": 1,
   "id": "f7b714ce",
   "metadata": {},
   "outputs": [
    {
     "name": "stdout",
     "output_type": "stream",
     "text": [
      "EURUSD labeled data loaded successfully.\n",
      "Data shape: (35197, 31)\n"
     ]
    }
   ],
   "source": [
    "import pandas as pd\n",
    "import xgboost as xgb\n",
    "import joblib\n",
    "from sklearn.model_selection import train_test_split\n",
    "from sklearn.metrics import classification_report, confusion_matrix\n",
    "import seaborn as sns\n",
    "import matplotlib.pyplot as plt\n",
    "\n",
    "# Load the final EURUSD labeled dataset\n",
    "data_path = '../../data/eurusd_h1_labeled.csv'\n",
    "df = pd.read_csv(data_path, index_col='time', parse_dates=True)\n",
    "\n",
    "df.dropna(inplace=True)\n",
    "\n",
    "print(\"EURUSD labeled data loaded successfully.\")\n",
    "print(f\"Data shape: {df.shape}\")"
   ]
  },
  {
   "cell_type": "code",
   "execution_count": 2,
   "id": "8c9c2c38",
   "metadata": {},
   "outputs": [
    {
     "name": "stdout",
     "output_type": "stream",
     "text": [
      "Data split into training and testing sets.\n",
      "Calculated weight for HOLD class: 3.53\n",
      "\n",
      "Model initialized with the best parameters found.\n",
      "\n",
      "Training the final EURUSD model with sample weights...\n"
     ]
    },
    {
     "name": "stderr",
     "output_type": "stream",
     "text": [
      "c:\\Users\\aliefchandrawijaya\\Documents\\forex_bot\\venv\\Lib\\site-packages\\xgboost\\sklearn.py:1395: UserWarning: `use_label_encoder` is deprecated in 1.7.0.\n",
      "  warnings.warn(\"`use_label_encoder` is deprecated in 1.7.0.\")\n"
     ]
    },
    {
     "name": "stdout",
     "output_type": "stream",
     "text": [
      "Model training complete.\n"
     ]
    }
   ],
   "source": [
    "# --- Prepare Data for Training ---\n",
    "# Define our features (X) and target (y)\n",
    "features = [col for col in df.columns if col not in ['open', 'high', 'low', 'close', 'volume', 'target']]\n",
    "X = df[features]\n",
    "y = df['target']\n",
    "\n",
    "# Split the data chronologically\n",
    "X_train, X_test, y_train, y_test = train_test_split(X, y, test_size=0.2, shuffle=False)\n",
    "\n",
    "print(\"Data split into training and testing sets.\")\n",
    "\n",
    "# --- Calculate class weights to handle imbalance ---\n",
    "class_counts = y_train.value_counts()\n",
    "weight_for_hold = (class_counts.get(1, 0) + class_counts.get(-1, 0)) / class_counts.get(0, 1)\n",
    "print(f\"Calculated weight for HOLD class: {weight_for_hold:.2f}\")\n",
    "\n",
    "# Create a weight array for each sample in the training set\n",
    "sample_weights = y_train.apply(lambda x: weight_for_hold if x == 0 else 1)\n",
    "\n",
    "# --- Initialize the XGBoost Classifier with the BEST parameters for EURUSD ---\n",
    "model = xgb.XGBClassifier(\n",
    "    objective='multi:softprob',\n",
    "    num_class=3,\n",
    "    use_label_encoder=False,\n",
    "    eval_metric='mlogloss',\n",
    "    # --- PLUG IN THE BEST PARAMETERS FROM YOUR NOTEBOOK 7 ---\n",
    "    colsample_bytree=0.9,\n",
    "    gamma=5,\n",
    "    learning_rate=0.05,\n",
    "    max_depth=5,\n",
    "    n_estimators=500,\n",
    "    reg_lambda=5,\n",
    "    subsample=0.7\n",
    ")\n",
    "\n",
    "print(\"\\nModel initialized with the best parameters found.\")\n",
    "\n",
    "# Map target labels for the model\n",
    "y_train_mapped = y_train.replace({-1: 2})\n",
    "y_test_mapped = y_test.replace({-1: 2})\n",
    "\n",
    "# --- Train the Final Model ---\n",
    "print(\"\\nTraining the final EURUSD model with sample weights...\")\n",
    "model.fit(X_train, y_train_mapped, sample_weight=sample_weights.values)\n",
    "print(\"Model training complete.\")"
   ]
  },
  {
   "cell_type": "code",
   "execution_count": 3,
   "id": "a10ce918",
   "metadata": {},
   "outputs": [
    {
     "name": "stdout",
     "output_type": "stream",
     "text": [
      "Model outputted final predictions directly.\n",
      "\n",
      "--- Final EURUSD Model Performance ---\n",
      "              precision    recall  f1-score   support\n",
      "\n",
      "          -1       0.64      0.24      0.35      2639\n",
      "           0       0.26      0.77      0.39      1655\n",
      "           1       0.67      0.29      0.40      2746\n",
      "\n",
      "    accuracy                           0.38      7040\n",
      "   macro avg       0.52      0.43      0.38      7040\n",
      "weighted avg       0.56      0.38      0.38      7040\n",
      "\n",
      "\n",
      "Confusion Matrix:\n"
     ]
    },
    {
     "data": {
      "image/png": "[encoded data removed]",
      "text/plain": [
       "<Figure size 640x480 with 2 Axes>"
      ]
     },
     "metadata": {},
     "output_type": "display_data"
    }
   ],
   "source": [
    "# In Notebook EURUSD-3 -- The FINAL, Corrected Cell 3\n",
    "\n",
    "# Make predictions on the test data\n",
    "y_pred_output = model.predict(X_test)\n",
    "\n",
    "# --- THIS IS THE CRITICAL FIX ---\n",
    "# Check if the model's output is 2D (probabilities) or 1D (final predictions)\n",
    "if y_pred_output.ndim > 1:\n",
    "    # If it's 2D, it's the probabilities. We find the class with the highest probability.\n",
    "    print(\"Model outputted probabilities. Finding max...\")\n",
    "    y_pred_mapped = y_pred_output.argmax(axis=1)\n",
    "else:\n",
    "    # If it's already 1D, the model gave us the final class predictions directly.\n",
    "    print(\"Model outputted final predictions directly.\")\n",
    "    y_pred_mapped = y_pred_output\n",
    "# ----------------------------\n",
    "\n",
    "# Map the predictions back from 2 to -1 to make the report readable\n",
    "y_pred = pd.Series(y_pred_mapped).replace({2: -1}).values\n",
    "\n",
    "# Print the final classification report\n",
    "print(\"\\n--- Final EURUSD Model Performance ---\")\n",
    "print(classification_report(y_test, y_pred, zero_division=0))\n",
    "\n",
    "# Display the final confusion matrix\n",
    "print(\"\\nConfusion Matrix:\")\n",
    "cm = confusion_matrix(y_test, y_pred, labels=[-1, 0, 1])\n",
    "sns.heatmap(cm, annot=True, fmt='d', xticklabels=[-1, 0, 1], yticklabels=[-1, 0, 1])\n",
    "plt.xlabel('Predicted')\n",
    "plt.ylabel('Actual')\n",
    "plt.show()"
   ]
  },
  {
   "cell_type": "code",
   "execution_count": 4,
   "id": "c0f77fbd",
   "metadata": {},
   "outputs": [
    {
     "name": "stdout",
     "output_type": "stream",
     "text": [
      "\n",
      "SUCCESS: Final EURUSD model saved successfully to: '../../models/eurusd_h1.pkl'\n"
     ]
    }
   ],
   "source": [
    "# Save the trained model to the 'models' directory\n",
    "model_path = '../../models/eurusd_h1.pkl'\n",
    "joblib.dump(model, model_path)\n",
    "\n",
    "print(f\"\\nSUCCESS: Final EURUSD model saved successfully to: '{model_path}'\")"
   ]
  }
 ],
 "metadata": {
  "kernelspec": {
   "display_name": "venv",
   "language": "python",
   "name": "python3"
  },
  "language_info": {
   "codemirror_mode": {
    "name": "ipython",
    "version": 3
   },
   "file_extension": ".py",
   "mimetype": "text/x-python",
   "name": "python",
   "nbconvert_exporter": "python",
   "pygments_lexer": "ipython3",
   "version": "3.11.9"
  }
 },
 "nbformat": 4,
 "nbformat_minor": 5
}
