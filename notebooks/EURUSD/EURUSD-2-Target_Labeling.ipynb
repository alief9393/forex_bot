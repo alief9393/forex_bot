{
 "cells": [
  {
   "cell_type": "code",
   "execution_count": null,
   "id": "01e2f3b9",
   "metadata": {},
   "outputs": [],
   "source": [
    "import pandas as pd\n",
    "import numpy as np\n",
    "import os\n",
    "\n",
    "data_path = '../../data/eurusd_h1_features.csv'\n",
    "df = pd.read_csv(data_path, index_col='time', parse_dates=True)\n",
    "\n",
    "print(\"EURUSD H1 feature data loaded successfully.\")\n",
    "display(df.head())"
   ]
  },
  {
   "cell_type": "code",
   "execution_count": null,
   "id": "bb557283",
   "metadata": {},
   "outputs": [],
   "source": [
    "def define_target(df, atr_multiplier_tp=3.0, atr_multiplier_sl=1.5, lookahead_candles=30):\n",
    "    \"\"\"\n",
    "    Creates the target variable based on dynamic, volatility-based (ATR) targets.\n",
    "    \"\"\"\n",
    "    df['target'] = 0\n",
    "    \n",
    "    atr_column_name = next((col for col in df.columns if 'ATRr_' in col), None)\n",
    "    if not atr_column_name:\n",
    "        raise ValueError(\"ATR column not found in DataFrame. Please ensure it's calculated in Notebook 1.\")\n",
    "        \n",
    "    for i in range(len(df) - lookahead_candles):\n",
    "        entry_price = df['close'].iloc[i]\n",
    "        atr_value = df[atr_column_name].iloc[i]\n",
    "        \n",
    "        future_window_high = df['high'].iloc[i+1 : i+1+lookahead_candles]\n",
    "        future_window_low = df['low'].iloc[i+1 : i+1+lookahead_candles]\n",
    "        \n",
    "        take_profit_buy = entry_price + (atr_value * atr_multiplier_tp)\n",
    "        stop_loss_buy = entry_price - (atr_value * atr_multiplier_sl)\n",
    "        \n",
    "        take_profit_sell = entry_price - (atr_value * atr_multiplier_tp)\n",
    "        stop_loss_sell = entry_price + (atr_value * atr_multiplier_sl)\n",
    "        \n",
    "        buy_profit_hit_time = future_window_high[future_window_high >= take_profit_buy].first_valid_index()\n",
    "        buy_loss_hit_time = future_window_low[future_window_low <= stop_loss_buy].first_valid_index()\n",
    "        \n",
    "        if buy_profit_hit_time is not None and (buy_loss_hit_time is None or buy_profit_hit_time < buy_loss_hit_time):\n",
    "            df.loc[df.index[i], 'target'] = 1\n",
    "            continue\n",
    "\n",
    "        sell_profit_hit_time = future_window_low[future_window_low <= take_profit_sell].first_valid_index()\n",
    "        sell_loss_hit_time = future_window_high[future_window_high >= stop_loss_sell].first_valid_index()\n",
    "            \n",
    "        if sell_profit_hit_time is not None and (sell_loss_hit_time is None or sell_profit_hit_time < sell_loss_hit_time):\n",
    "            df.loc[df.index[i], 'target'] = -1\n",
    "            continue\n",
    "            \n",
    "    return df\n",
    "\n",
    "print(\"New dynamic define_target function created and ready.\")"
   ]
  },
  {
   "cell_type": "code",
   "execution_count": null,
   "id": "c299732b",
   "metadata": {},
   "outputs": [],
   "source": [
    "labeled_df = define_target(\n",
    "    df, \n",
    "    atr_multiplier_tp=2.25, \n",
    "    atr_multiplier_sl=1.5, \n",
    "    lookahead_candles=40\n",
    ")\n",
    "\n",
    "print(\"Dynamic target labeling complete.\")\n",
    "\n",
    "target_distribution = labeled_df['target'].value_counts()\n",
    "print(\"\\nTarget Distribution:\")\n",
    "print(target_distribution)\n",
    "\n",
    "target_distribution.plot(kind='bar', title='Distribution of EURUSD Target Labels')"
   ]
  },
  {
   "cell_type": "code",
   "execution_count": null,
   "id": "7602e7c2",
   "metadata": {},
   "outputs": [],
   "source": [
    "output_path = '../../data/eurusd_h1_labeled.csv'\n",
    "labeled_df.to_csv(output_path)\n",
    "\n",
    "print(f\"\\nLabeled data for EURUSD H1 saved successfully to: {output_path}\")"
   ]
  }
 ],
 "metadata": {
  "kernelspec": {
   "display_name": "venv",
   "language": "python",
   "name": "python3"
  },
  "language_info": {
   "codemirror_mode": {
    "name": "ipython",
    "version": 3
   },
   "file_extension": ".py",
   "mimetype": "text/x-python",
   "name": "python",
   "nbconvert_exporter": "python",
   "pygments_lexer": "ipython3",
   "version": "3.11.9"
  }
 },
 "nbformat": 4,
 "nbformat_minor": 5
}
