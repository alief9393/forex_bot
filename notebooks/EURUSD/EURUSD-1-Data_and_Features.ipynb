{
 "cells": [
  {
   "cell_type": "code",
   "execution_count": null,
   "id": "c1b7b46d",
   "metadata": {},
   "outputs": [],
   "source": [
    "import sys\n",
    "import os\n",
    "import pandas as pd\n",
    "import MetaTrader5 as mt5\n",
    "\n",
    "module_path = os.path.abspath(os.path.join('../../'))\n",
    "if module_path not in sys.path:\n",
    "    sys.path.append(module_path)\n",
    "\n",
    "from services.mt5_data_service import MT5DataService\n",
    "from services.indicator_service import IndicatorService\n",
    "\n",
    "print(\"Libraries and services imported successfully.\")\n",
    "\n",
    "print(\"\\nAttempting to initialize connection to MT5 terminal...\")\n",
    "if not mt5.initialize():\n",
    "    print(\"FATAL: initialize() failed, error code =\", mt5.last_error())\n",
    "    quit()\n",
    "\n",
    "print(\"SUCCESS: Connection to MT5 terminal established.\")"
   ]
  },
  {
   "cell_type": "code",
   "execution_count": null,
   "id": "df21f678",
   "metadata": {},
   "outputs": [],
   "source": [
    "data_svc = MT5DataService()\n",
    "\n",
    "SYMBOL = \"EURUSD\"\n",
    "TIMEFRAME = 'H1'\n",
    "START_DATE = \"2020-01-01\"\n",
    "\n",
    "print(f\"\\n--- Fetching Primary Asset Data ({SYMBOL}) ---\")\n",
    "historical_df = data_svc.get_all_historical_data(symbol=SYMBOL, timeframe_str=TIMEFRAME, start_date=START_DATE)\n",
    "\n",
    "if historical_df is not None:\n",
    "    print(f\"\\nSUCCESS: {SYMBOL} data fetched successfully.\")\n",
    "    print(f\"Total H1 Candles Fetched: {len(historical_df)}\")\n",
    "    print(f\"Data Range: from {historical_df.index.min()} to {historical_df.index.max()}\")\n",
    "else:\n",
    "    print(\"\\nERROR: Failed to fetch data. Please check the logs.\")"
   ]
  },
  {
   "cell_type": "code",
   "execution_count": null,
   "id": "c18e45fa",
   "metadata": {},
   "outputs": [],
   "source": [
    "if historical_df is not None and not historical_df.empty:\n",
    "    \n",
    "    indicator_svc = IndicatorService()\n",
    "    \n",
    "    print(\"\\n--- Calculating the 'Ultimate' suite of indicators for EURUSD ---\")\n",
    "    \n",
    "    features_df = indicator_svc.add_all_indicators(historical_df)\n",
    "    \n",
    "    if features_df is not None and not features_df.empty:\n",
    "        print(\"\\nSUCCESS: All features successfully calculated.\")\n",
    "        print(f\"Final DataFrame shape: {features_df.shape}\")\n",
    "        print(f\"Data Range: from {features_df.index.min()} to {features_df.index.max()}\")\n",
    "        print(\"\\nData Head with all features:\")\n",
    "        display(features_df.head())\n",
    "    else:\n",
    "        print(\"\\nERROR: Feature calculation resulted in an empty DataFrame.\")\n",
    "else:\n",
    "    print(\"\\nSkipping feature engineering due to data fetching errors in the previous cell.\")\n",
    "    features_df = None"
   ]
  },
  {
   "cell_type": "code",
   "execution_count": null,
   "id": "a088e6a6",
   "metadata": {},
   "outputs": [],
   "source": [
    "if 'features_df' in locals() and features_df is not None and not features_df.empty:\n",
    "    \n",
    "    data_dir = '../../data'\n",
    "    if not os.path.exists(data_dir):\n",
    "        os.makedirs(data_dir)\n",
    "\n",
    "    output_filename = \"eurusd_h1_features.csv\"\n",
    "    output_path = os.path.join(data_dir, output_filename)\n",
    "    \n",
    "    features_df.to_csv(output_path)\n",
    "\n",
    "    print(f\"\\nSUCCESS: Processed H1 feature data for EURUSD saved to: '{output_path}'\")\n",
    "else:\n",
    "    print(\"\\nERROR: No valid data to save. Please check the output of the previous cells.\")\n",
    "\n",
    "if 'mt5' in locals() and mt5.terminal_info():\n",
    "    mt5.shutdown()\n",
    "    print(\"\\nConnection to MT5 terminal has been shut down. Notebook complete.\")\n",
    "else:\n",
    "    print(\"\\nNotebook complete (MT5 connection was already closed or failed to initialize).\")"
   ]
  }
 ],
 "metadata": {
  "kernelspec": {
   "display_name": "venv",
   "language": "python",
   "name": "python3"
  },
  "language_info": {
   "codemirror_mode": {
    "name": "ipython",
    "version": 3
   },
   "file_extension": ".py",
   "mimetype": "text/x-python",
   "name": "python",
   "nbconvert_exporter": "python",
   "pygments_lexer": "ipython3",
   "version": "3.11.9"
  }
 },
 "nbformat": 4,
 "nbformat_minor": 5
}
